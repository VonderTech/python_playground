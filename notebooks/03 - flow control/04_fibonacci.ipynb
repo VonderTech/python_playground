{
 "cells": [
  {
   "cell_type": "markdown",
   "metadata": {},
   "source": []
  },
  {
   "cell_type": "markdown",
   "metadata": {},
   "source": [
    "## Fibonacci series\n",
    "\n",
    "Small exercise to calculate the Fibonacci series"
   ]
  },
  {
   "cell_type": "code",
   "execution_count": 8,
   "metadata": {},
   "outputs": [
    {
     "name": "stdout",
     "output_type": "stream",
     "text": [
      "[0, 1, 1, 2, 3, 5, 8, 13, 21, 34, 55, 89, 144, 233, 377, 610, 987]\n"
     ]
    }
   ],
   "source": [
    "fibonacci_count = int(input(\"How many Fibonacci numbers would you like to generate? \"))\n",
    "\n",
    "\n",
    "def calculate_fibonacci(n):\n",
    "    \"\"\"\n",
    "    Calculate the Fibonacci sequence up to the given number.\n",
    "\n",
    "    Parameters:\n",
    "    n (int): The number of Fibonacci numbers to generate.\n",
    "\n",
    "    Returns:\n",
    "    list: A list containing the Fibonacci sequence.\n",
    "\n",
    "    \"\"\"\n",
    "    fib_sequence = []\n",
    "    for i in range(n):\n",
    "        if i == 0:\n",
    "            fib_sequence.append(0)\n",
    "        elif i == 1:\n",
    "            fib_sequence.append(1)\n",
    "        else:\n",
    "            fib_sequence.append(fib_sequence[i - 1] + fib_sequence[i - 2])\n",
    "\n",
    "    return fib_sequence\n",
    "\n",
    "\n",
    "fibonacci = calculate_fibonacci(fibonacci_count)\n",
    "\n",
    "print(fibonacci)\n"
   ]
  }
 ],
 "metadata": {
  "kernelspec": {
   "display_name": "Python 3",
   "language": "python",
   "name": "python3"
  },
  "language_info": {
   "codemirror_mode": {
    "name": "ipython",
    "version": 3
   },
   "file_extension": ".py",
   "mimetype": "text/x-python",
   "name": "python",
   "nbconvert_exporter": "python",
   "pygments_lexer": "ipython3",
   "version": "3.12.3"
  }
 },
 "nbformat": 4,
 "nbformat_minor": 2
}
