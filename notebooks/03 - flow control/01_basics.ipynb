{
 "cells": [
  {
   "cell_type": "markdown",
   "metadata": {},
   "source": [
    "## Flow control\n",
    "\n",
    "- conditionals work the same as in other languages, however there are no curly braces. Instead it is done with indentation\n",
    "- Keywords are True and False. First letter big, unlike other languages\n",
    "- if / else is without parentheses in Python\n",
    "- There is no switch statement in Python"
   ]
  },
  {
   "cell_type": "code",
   "execution_count": 2,
   "metadata": {},
   "outputs": [
    {
     "name": "stdout",
     "output_type": "stream",
     "text": [
      "True\n",
      "Selected color is red\n"
     ]
    }
   ],
   "source": [
    "from enum import Enum\n",
    "\n",
    "# basic conditionals\n",
    "if True:\n",
    "    print(\"True\")\n",
    "else:\n",
    "    print(\"False\")\n",
    "\n",
    "\n",
    "# the way to do switch case in python\n",
    "class Color(Enum):\n",
    "    RED = 1\n",
    "    GREEN = 2\n",
    "    BLUE = 3\n",
    "\n",
    "\n",
    "# Usage\n",
    "selected_color = Color.RED\n",
    "if selected_color == Color.RED:\n",
    "    print(\"Selected color is red\")\n",
    "elif selected_color == Color.GREEN:\n",
    "    print(\"Selected color is green\")\n",
    "elif selected_color == Color.BLUE:\n",
    "    print(\"Selected color is blue\")\n"
   ]
  },
  {
   "cell_type": "code",
   "execution_count": 9,
   "metadata": {},
   "outputs": [
    {
     "ename": "VectorLengthMismatchError",
     "evalue": "The vectors have different lengths. Cannot calculate dot product.",
     "output_type": "error",
     "traceback": [
      "\u001b[1;31m---------------------------------------------------------------------------\u001b[0m",
      "\u001b[1;31mVectorLengthMismatchError\u001b[0m                 Traceback (most recent call last)",
      "Cell \u001b[1;32mIn[9], line 39\u001b[0m\n\u001b[0;32m     36\u001b[0m vector2 \u001b[38;5;241m=\u001b[39m read_vector()\n\u001b[0;32m     38\u001b[0m \u001b[38;5;66;03m# Compute the dot product of the two vectors\u001b[39;00m\n\u001b[1;32m---> 39\u001b[0m dot_product \u001b[38;5;241m=\u001b[39m \u001b[43mcomputeDotProduct\u001b[49m\u001b[43m(\u001b[49m\u001b[43mvector1\u001b[49m\u001b[43m,\u001b[49m\u001b[43m \u001b[49m\u001b[43mvector2\u001b[49m\u001b[43m)\u001b[49m\n\u001b[0;32m     41\u001b[0m \u001b[38;5;66;03m# compute the dot product using numpy (for verification)\u001b[39;00m\n\u001b[0;32m     42\u001b[0m vector1np \u001b[38;5;241m=\u001b[39m np\u001b[38;5;241m.\u001b[39marray(vector1)\n",
      "Cell \u001b[1;32mIn[9], line 29\u001b[0m, in \u001b[0;36mcomputeDotProduct\u001b[1;34m(vector1, vector2)\u001b[0m\n\u001b[0;32m     27\u001b[0m         dot_product \u001b[38;5;241m+\u001b[39m\u001b[38;5;241m=\u001b[39m vector1[i] \u001b[38;5;241m*\u001b[39m vector2[i]\n\u001b[0;32m     28\u001b[0m \u001b[38;5;28;01melse\u001b[39;00m:\n\u001b[1;32m---> 29\u001b[0m     \u001b[38;5;28;01mraise\u001b[39;00m VectorLengthMismatchError(\u001b[38;5;124m\"\u001b[39m\u001b[38;5;124mThe vectors have different lengths. Cannot calculate dot product.\u001b[39m\u001b[38;5;124m\"\u001b[39m)\n\u001b[0;32m     30\u001b[0m \u001b[38;5;28;01mreturn\u001b[39;00m dot_product\n",
      "\u001b[1;31mVectorLengthMismatchError\u001b[0m: The vectors have different lengths. Cannot calculate dot product."
     ]
    }
   ],
   "source": []
  }
 ],
 "metadata": {
  "kernelspec": {
   "display_name": "Python 3",
   "language": "python",
   "name": "python3"
  },
  "language_info": {
   "codemirror_mode": {
    "name": "ipython",
    "version": 3
   },
   "file_extension": ".py",
   "mimetype": "text/x-python",
   "name": "python",
   "nbconvert_exporter": "python",
   "pygments_lexer": "ipython3",
   "version": "3.12.3"
  }
 },
 "nbformat": 4,
 "nbformat_minor": 2
}
