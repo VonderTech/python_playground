{
 "cells": [
  {
   "cell_type": "code",
   "execution_count": 15,
   "metadata": {},
   "outputs": [
    {
     "name": "stdout",
     "output_type": "stream",
     "text": [
      "4\n"
     ]
    }
   ],
   "source": [
    "from calendar import c\n",
    "import numpy as np\n",
    "\n",
    "\n",
    "def poisson_counter(lambdaVal):\n",
    "    target = np.exp(-lambdaVal)\n",
    "\n",
    "    counter, currentVal = 0, 1\n",
    "\n",
    "    while True:\n",
    "        counter += 1\n",
    "        currentVal *= np.random.uniform(0, 1)\n",
    "        if currentVal < target:\n",
    "            return counter\n",
    "\n",
    "\n",
    "counter = poisson_counter(5)\n",
    "print(counter)"
   ]
  }
 ],
 "metadata": {
  "kernelspec": {
   "display_name": "Python 3",
   "language": "python",
   "name": "python3"
  },
  "language_info": {
   "codemirror_mode": {
    "name": "ipython",
    "version": 3
   },
   "file_extension": ".py",
   "mimetype": "text/x-python",
   "name": "python",
   "nbconvert_exporter": "python",
   "pygments_lexer": "ipython3",
   "version": "3.12.3"
  }
 },
 "nbformat": 4,
 "nbformat_minor": 2
}
