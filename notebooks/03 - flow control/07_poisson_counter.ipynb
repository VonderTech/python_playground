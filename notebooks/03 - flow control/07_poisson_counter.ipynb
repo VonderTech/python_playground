{
 "cells": [
  {
   "cell_type": "code",
   "execution_count": 10,
   "metadata": {},
   "outputs": [
    {
     "name": "stdout",
     "output_type": "stream",
     "text": [
      "Number of iterations:  14\n"
     ]
    }
   ],
   "source": [
    "from calendar import c\n",
    "import numpy as np\n",
    "\n",
    "\n",
    "def poisson_counter(lambdaVal):\n",
    "    target = np.exp(-lambdaVal)\n",
    "\n",
    "    counter = 0\n",
    "    currentVal = 1\n",
    "    while True:\n",
    "        counter += 1\n",
    "        currentVal *= np.random.uniform(0, 1)\n",
    "        if currentVal < target:\n",
    "            return counter\n",
    "\n",
    "\n",
    "counter = poisson_counter(5)\n",
    "print(counter)"
   ]
  }
 ],
 "metadata": {
  "kernelspec": {
   "display_name": "Python 3",
   "language": "python",
   "name": "python3"
  },
  "language_info": {
   "codemirror_mode": {
    "name": "ipython",
    "version": 3
   },
   "file_extension": ".py",
   "mimetype": "text/x-python",
   "name": "python",
   "nbconvert_exporter": "python",
   "pygments_lexer": "ipython3",
   "version": "3.12.3"
  }
 },
 "nbformat": 4,
 "nbformat_minor": 2
}
