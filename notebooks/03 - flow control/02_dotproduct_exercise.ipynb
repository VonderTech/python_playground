{
 "cells": [
  {
   "cell_type": "markdown",
   "metadata": {},
   "source": [
    "## Dot product\n",
    "\n",
    "This exercise focuses on calculating the dot product of two vectors. The dot product is a mathematical operation that takes two vectors and returns a scalar value. It is calculated by multiplying corresponding elements of the two vectors and summing the results.\n",
    "\n",
    "To perform this exercise, we have defined a `VectorLengthMismatchError` exception class to handle cases where the input vectors have different lengths. We also have two functions: `read_vector()` to read a vector from user input, and `computeDotProduct()` to compute the dot product of two vectors.\n",
    "\n",
    "Here's how the exercise works:\n",
    "1. The user is prompted to enter the first vector (3 dimensions) using the `read_vector()` function.\n",
    "2. The user is prompted to enter the second vector (3 dimensions) using the `read_vector()` function.\n",
    "3. The dot product of the two vectors is calculated using the `computeDotProduct()` function.\n",
    "4. The dot product is displayed to the user, along with the dot product calculated using NumPy for verification.\n",
    "\n",
    "Feel free to modify the vectors or explore different scenarios to practice calculating the dot product.\n"
   ]
  },
  {
   "cell_type": "code",
   "execution_count": 5,
   "metadata": {},
   "outputs": [
    {
     "name": "stdout",
     "output_type": "stream",
     "text": [
      "The vectors have the same length. Calculating dot product...\n",
      "Dot product of the two vectors: 14.0\n",
      "Dot product of the two vectors using numpy: 14.0\n"
     ]
    }
   ],
   "source": [
    "import numpy as np\n",
    "\n",
    "# small exercise for computing the dot product of two vectors\n",
    "\n",
    "\n",
    "class VectorLengthMismatchError(Exception):\n",
    "    pass\n",
    "\n",
    "\n",
    "# read in the first vector\n",
    "def read_vector():\n",
    "    # Read vector from user input\n",
    "    vector_input = input(\"Enter the vector (3 dimensions): \")\n",
    "\n",
    "    # Split the input string into individual values (separated by spaces)\n",
    "    vector_values = vector_input.split()\n",
    "\n",
    "    # Convert the values to integers\n",
    "    vector = [float(value) for value in vector_values]\n",
    "\n",
    "    return vector\n",
    "\n",
    "\n",
    "# Compute the dot product of two vectors (A1 * B1 + A2 * B2 + A3 * B3)\n",
    "def computeDotProduct(vector1, vector2):\n",
    "    if not (isinstance(vector1, list) and isinstance(vector2, list)):\n",
    "        raise ValueError(\"The parameters are not of type list.\")\n",
    "\n",
    "    dot_product = 0\n",
    "    if len(vector1) == len(vector2):\n",
    "        print(\"The vectors have the same length. Calculating dot product...\")\n",
    "        for i in range(len(vector1)):\n",
    "            dot_product += vector1[i] * vector2[i]\n",
    "    else:\n",
    "        raise VectorLengthMismatchError(\n",
    "            \"The vectors have different lengths. Cannot calculate dot product.\"\n",
    "        )\n",
    "    return dot_product\n",
    "\n",
    "\n",
    "# Read in the first vector\n",
    "vector1 = read_vector()\n",
    "# Read in the second vector\n",
    "vector2 = read_vector()\n",
    "\n",
    "# Compute the dot product of the two vectors\n",
    "dot_product = computeDotProduct(vector1, vector2)\n",
    "\n",
    "# compute the dot product using numpy (for verification)\n",
    "vector1np = np.array(vector1)\n",
    "vector2np = np.array(vector2)\n",
    "dot_product_np = np.dot(vector1np, vector2np)\n",
    "\n",
    "# Display the result\n",
    "print(\"Dot product of the two vectors:\", dot_product)\n",
    "print(\"Dot product of the two vectors using numpy:\", dot_product_np)"
   ]
  }
 ],
 "metadata": {
  "kernelspec": {
   "display_name": "Python 3",
   "language": "python",
   "name": "python3"
  },
  "language_info": {
   "codemirror_mode": {
    "name": "ipython",
    "version": 3
   },
   "file_extension": ".py",
   "mimetype": "text/x-python",
   "name": "python",
   "nbconvert_exporter": "python",
   "pygments_lexer": "ipython3",
   "version": "3.12.3"
  }
 },
 "nbformat": 4,
 "nbformat_minor": 2
}
