{
 "cells": [
  {
   "cell_type": "markdown",
   "metadata": {},
   "source": [
    "## For loops\n",
    "\n",
    "- A `for` loop in Python is a bit different than the classic `for(int i=0; i<10; ++i)` syntax. Here, the `range` function is used to iterate over a sequence of numbers.\n",
    "- increment is done automatically"
   ]
  },
  {
   "cell_type": "code",
   "execution_count": 4,
   "metadata": {},
   "outputs": [
    {
     "name": "stdout",
     "output_type": "stream",
     "text": [
      "0\n",
      "1\n",
      "2\n",
      "3\n",
      "4\n",
      "5\n",
      "6\n",
      "7\n",
      "8\n",
      "9\n",
      "-------------------\n",
      "1\n",
      "2\n",
      "3\n",
      "4\n",
      "5\n",
      "6\n",
      "7\n",
      "8\n",
      "9\n",
      "10\n",
      "-------------------\n",
      "1\n",
      "3\n",
      "5\n",
      "7\n",
      "9\n"
     ]
    }
   ],
   "source": [
    "# basic for loop going from 0 to 9\n",
    "for i in range(10):\n",
    "    print(i)\n",
    "\n",
    "print(\"-------------------\")\n",
    "\n",
    "# basic for loop starting at 1\n",
    "for i in range(1, 11):\n",
    "    print(i)\n",
    "\n",
    "print(\"-------------------\")\n",
    "\n",
    "# basic for loop starting at 1 and incrementing by 2\n",
    "for i in range(1, 11, 2):\n",
    "    print(i)\n"
   ]
  }
 ],
 "metadata": {
  "kernelspec": {
   "display_name": "Python 3",
   "language": "python",
   "name": "python3"
  },
  "language_info": {
   "codemirror_mode": {
    "name": "ipython",
    "version": 3
   },
   "file_extension": ".py",
   "mimetype": "text/x-python",
   "name": "python",
   "nbconvert_exporter": "python",
   "pygments_lexer": "ipython3",
   "version": "3.12.3"
  }
 },
 "nbformat": 4,
 "nbformat_minor": 2
}
