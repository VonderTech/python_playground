{
 "cells": [
  {
   "cell_type": "markdown",
   "metadata": {},
   "source": [
    "## Broadcasting\n",
    "\n",
    "Broadcasting is a powerful concept in NumPy that allows you to perform arithmetic operations on arrays of different shapes. It does this by automatically expanding the smaller array to match the shape of the larger array, so that they have compatible shapes.\n",
    "\n",
    "Broadcasting rules in NumPy are as follows:\n",
    "\n",
    "1. If the arrays have different numbers of dimensions, the shape of the one with fewer dimensions is padded with ones on its leading (left) side.\n",
    "\n",
    "2. If the shape of the two arrays does not match in any dimension, the array with shape equal to 1 in that dimension is stretched to match the other shape.\n",
    "\n",
    "3. If in any dimension the sizes disagree and neither is equal to 1, an error is raised."
   ]
  },
  {
   "cell_type": "code",
   "execution_count": 22,
   "metadata": {},
   "outputs": [
    {
     "name": "stdout",
     "output_type": "stream",
     "text": [
      "[0 1 2 3 4 5 6 7 8]\n",
      "\n",
      "[[0 1 2]\n",
      " [3 4 5]\n",
      " [6 7 8]]\n",
      "\n",
      "[[0 1 2]\n",
      " [3 4 5]\n",
      " [6 7 8]\n",
      " [0 1 2]\n",
      " [3 4 5]\n",
      " [6 7 8]\n",
      " [0 1 2]\n",
      " [3 4 5]\n",
      " [6 7 8]]\n",
      "\n",
      "[[ 0  0  0]\n",
      " [ 3  4  5]\n",
      " [12 14 16]\n",
      " [ 0  3  6]\n",
      " [12 16 20]\n",
      " [30 35 40]\n",
      " [ 0  6 12]\n",
      " [21 28 35]\n",
      " [48 56 64]]\n"
     ]
    }
   ],
   "source": [
    "import numpy as np\n",
    "\n",
    "# Create a vector of 9 elements\n",
    "vector = np.arange(9)\n",
    "\n",
    "# Reshape the vector into a 3x3 matrix\n",
    "matrix = vector.reshape(3, 3)\n",
    "\n",
    "# Repeat the matrix 3 times along the columns\n",
    "repeatedMatrix = np.tile(matrix, (3, 1))\n",
    "\n",
    "# brroadcast the matrix with the vector\n",
    "vectorTransposed = np.reshape(vector, (9, 1))\n",
    "broadcastedMatrix = repeatedMatrix * vectorTransposed\n",
    "\n",
    "print(vector)\n",
    "print()\n",
    "\n",
    "print(matrix)\n",
    "print()\n",
    "\n",
    "print(repeatedMatrix)\n",
    "print()\n",
    "print(broadcastedMatrix)"
   ]
  }
 ],
 "metadata": {
  "kernelspec": {
   "display_name": "Python 3",
   "language": "python",
   "name": "python3"
  },
  "language_info": {
   "codemirror_mode": {
    "name": "ipython",
    "version": 3
   },
   "file_extension": ".py",
   "mimetype": "text/x-python",
   "name": "python",
   "nbconvert_exporter": "python",
   "pygments_lexer": "ipython3",
   "version": "3.12.3"
  }
 },
 "nbformat": 4,
 "nbformat_minor": 2
}
