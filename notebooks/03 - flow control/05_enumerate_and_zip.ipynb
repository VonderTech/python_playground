{
 "cells": [
  {
   "cell_type": "markdown",
   "metadata": {},
   "source": [
    "## Enumerate and zip\n",
    "\n",
    "- enumerate() is used to loop over a collection of items, while keeping track of the current item's index."
   ]
  },
  {
   "cell_type": "code",
   "execution_count": null,
   "metadata": {},
   "outputs": [],
   "source": [
    "import numpy as np\n",
    "\n",
    "# enumerate() is used to loop over a collection of items, while keeping track of the current item's index.\n",
    "linSpace = np.linspace(0, 10, 5)\n",
    "\n",
    "for i, n in enumerate(linSpace):\n",
    "    print(\"Index \" + str(i) + \" Value \" + str(n))\n",
    "\n",
    "# enumerate() can also be used with strings\n",
    "text = \"This is an example text\"\n",
    "for i, n in enumerate(text):\n",
    "    print(\"Index \" + str(i) + \" Value \" + n)"
   ]
  },
  {
   "cell_type": "code",
   "execution_count": 13,
   "metadata": {},
   "outputs": [
    {
     "name": "stdout",
     "output_type": "stream",
     "text": [
      "1a!\n",
      "2b@\n",
      "3c#\n",
      "4d$\n",
      "a d\n",
      "1 4\n",
      "b e\n",
      "2 5\n",
      "c f\n",
      "3 6\n",
      "1a!\n",
      "2b@\n",
      "3c#\n",
      "{1: 'a', 2: 'b', 3: 'c', 4: 'd'}\n"
     ]
    }
   ],
   "source": [
    "# zip() is used to combine two or more lists into a single list\n",
    "list1 = [1, 2, 3, 4]\n",
    "list2 = [\"a\", \"b\", \"c\", \"d\"]\n",
    "list3 = [\"!\", \"@\", \"#\", \"$\"]\n",
    "\n",
    "for i, j, k in zip(list1, list2, list3):\n",
    "    print(str(i) + j + k)\n",
    "\n",
    "\n",
    "# zip() can also be used with dictionaries\n",
    "dict1 = {\"a\": 1, \"b\": 2, \"c\": 3}\n",
    "dict2 = {\"d\": 4, \"e\": 5, \"f\": 6}\n",
    "\n",
    "for key1, key2 in zip(dict1, dict2):\n",
    "    print(key1 + \" \" + key2)\n",
    "    print(str(dict1[key1]) + \" \" + str(dict2[key2]))\n",
    "\n",
    "# zip() uses the shortest list as the length of the new list (in this case, list2 is the shortest list)\n",
    "list1 = [1, 2, 3, 4]\n",
    "list2 = [\"a\", \"b\", \"c\"]\n",
    "list3 = [\"!\", \"@\", \"#\", \"$\"]\n",
    "\n",
    "for i, j, k in zip(list1, list2, list3):\n",
    "    print(str(i) + j + k)\n",
    "\n",
    "# zip() can also be used to create a dictionary\n",
    "list1 = [1, 2, 3, 4]\n",
    "list2 = [\"a\", \"b\", \"c\", \"d\"]\n",
    "\n",
    "dict1 = dict(zip(list1, list2))\n",
    "print(dict1)"
   ]
  }
 ],
 "metadata": {
  "kernelspec": {
   "display_name": "Python 3",
   "language": "python",
   "name": "python3"
  },
  "language_info": {
   "codemirror_mode": {
    "name": "ipython",
    "version": 3
   },
   "file_extension": ".py",
   "mimetype": "text/x-python",
   "name": "python",
   "nbconvert_exporter": "python",
   "pygments_lexer": "ipython3",
   "version": "3.12.3"
  }
 },
 "nbformat": 4,
 "nbformat_minor": 2
}
