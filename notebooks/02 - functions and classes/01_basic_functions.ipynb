{
 "cells": [
  {
   "cell_type": "markdown",
   "metadata": {},
   "source": [
    "## Basic functions\n",
    "- Apparently in Python functions do not only have multivple inputs (like everywhere else) but also multiple outputs\n",
    "- basic idea of Python is that it is super lightweight and does not come bundled with lots of functions. Instead everything you need is in libraries"
   ]
  },
  {
   "cell_type": "code",
   "execution_count": 3,
   "metadata": {},
   "outputs": [
    {
     "name": "stdout",
     "output_type": "stream",
     "text": [
      "the sum of the list is:55\n",
      "the average of the list is:5.5\n"
     ]
    }
   ],
   "source": [
    "# sum\n",
    "myList = [1, 2, 3, 4, 5, 6, 7, 8, 9, 10]\n",
    "aggregate = sum(myList)\n",
    "print(\"the sum of the list is:\" + str(aggregate))\n",
    "\n",
    "mean = aggregate / len(myList)\n",
    "print(\"the mean of the list is:\" + str(mean))"
   ]
  },
  {
   "cell_type": "code",
   "execution_count": 6,
   "metadata": {},
   "outputs": [
    {
     "name": "stdout",
     "output_type": "stream",
     "text": [
      "the sum of the list is:55\n"
     ]
    }
   ],
   "source": [
    "# using numpy to calculate the sum and average\n",
    "\n",
    "import numpy as np\n",
    "\n",
    "sum = np.sum(myList)\n",
    "print(\"the sum of the list is:\" + str(sum))\n",
    "\n",
    "average = np.mean(myList)\n",
    "print(\"the mean of the list is:\" + str(mean))"
   ]
  }
 ],
 "metadata": {
  "kernelspec": {
   "display_name": "Python 3",
   "language": "python",
   "name": "python3"
  },
  "language_info": {
   "codemirror_mode": {
    "name": "ipython",
    "version": 3
   },
   "file_extension": ".py",
   "mimetype": "text/x-python",
   "name": "python",
   "nbconvert_exporter": "python",
   "pygments_lexer": "ipython3",
   "version": "3.12.3"
  }
 },
 "nbformat": 4,
 "nbformat_minor": 2
}
