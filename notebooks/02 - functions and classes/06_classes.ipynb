{
 "cells": [
  {
   "cell_type": "markdown",
   "metadata": {},
   "source": [
    "## Classes\n",
    "\n",
    "- Python also supports Object-Oriented Programming concepts.\n",
    "- There are some naming conventions, but visibility modifiers like public, protected, or private do not exist.\n",
    "- The constructor has a unique syntax with `__init__`.\n",
    "- Similar to functions, there are no curly brackets, and everything is done via indentation.\n",
    "- Member variables (attributes) are accessed using `self`.\n",
    "- `self` acts like the `this` keyword in other languages.\n"
   ]
  },
  {
   "cell_type": "code",
   "execution_count": 1,
   "metadata": {},
   "outputs": [
    {
     "name": "stdout",
     "output_type": "stream",
     "text": [
      "Hello, my name is myFirstObject\n"
     ]
    }
   ],
   "source": [
    "class myFirstClass(object):\n",
    "    def __init__(self, numLayers, numUnits, name):\n",
    "        self.numLayers = numLayers\n",
    "        self.numUnits = numUnits\n",
    "        self.name = name\n",
    "\n",
    "    def getUnitCount(self):\n",
    "        return self.numLayers * self.numUnits\n",
    "\n",
    "\n",
    "# Create an object of the class\n",
    "myObject = myFirstClass(3, 128, \"My first neural network\")\n",
    "\n",
    "print(\"Number of units in the network:\", myObject.getUnitCount())"
   ]
  }
 ],
 "metadata": {
  "kernelspec": {
   "display_name": "Python 3",
   "language": "python",
   "name": "python3"
  },
  "language_info": {
   "codemirror_mode": {
    "name": "ipython",
    "version": 3
   },
   "file_extension": ".py",
   "mimetype": "text/x-python",
   "name": "python",
   "nbconvert_exporter": "python",
   "pygments_lexer": "ipython3",
   "version": "3.12.3"
  }
 },
 "nbformat": 4,
 "nbformat_minor": 2
}
