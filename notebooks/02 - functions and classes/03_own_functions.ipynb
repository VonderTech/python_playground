{
 "cells": [
  {
   "cell_type": "markdown",
   "metadata": {},
   "source": [
    "# Functions\n",
    "\n",
    "- No curly braces here in Python.\n",
    "- Function body gets defined by indentation.\n",
    "- Return type does not need to be specified.\n",
    "- What is cool is that a function can return multiple values in the form of a tuple.\n",
    "- Python also has lambda functions.\n"
   ]
  },
  {
   "cell_type": "code",
   "execution_count": 5,
   "metadata": {},
   "outputs": [
    {
     "name": "stdout",
     "output_type": "stream",
     "text": [
      "Hello World\n"
     ]
    }
   ],
   "source": [
    "def myFirstFunction():\n",
    "    print(\"Hello World\")\n",
    "\n",
    "\n",
    "myFirstFunction()"
   ]
  },
  {
   "cell_type": "code",
   "execution_count": 3,
   "metadata": {},
   "outputs": [
    {
     "name": "stdout",
     "output_type": "stream",
     "text": [
      "Hello André\n"
     ]
    }
   ],
   "source": [
    "def myFunctionWithParameters(name):\n",
    "    print(\"Hello \" + name)\n",
    "\n",
    "\n",
    "myFunctionWithParameters(\"André\")"
   ]
  },
  {
   "cell_type": "code",
   "execution_count": 2,
   "metadata": {},
   "outputs": [
    {
     "name": "stdout",
     "output_type": "stream",
     "text": [
      "Hello World\n"
     ]
    }
   ],
   "source": [
    "def myFunctionWithReturn():\n",
    "    return \"Hello World\"\n",
    "\n",
    "\n",
    "print(myFunctionWithReturn())"
   ]
  },
  {
   "cell_type": "code",
   "execution_count": 9,
   "metadata": {},
   "outputs": [
    {
     "name": "stdout",
     "output_type": "stream",
     "text": [
      "('Hello', 'World')\n",
      "Hello\n",
      "World\n"
     ]
    }
   ],
   "source": [
    "def myFuntionWithMultipleReturn():\n",
    "    # ! This will return a tuple\n",
    "    return \"Hello\", \"World\"\n",
    "\n",
    "\n",
    "print(myFuntionWithMultipleReturn())\n",
    "\n",
    "# they can be also directly assigned to variables\n",
    "a, b = myFuntionWithMultipleReturn()\n",
    "print(a)\n",
    "print(b)"
   ]
  },
  {
   "cell_type": "code",
   "execution_count": null,
   "metadata": {},
   "outputs": [],
   "source": [
    "# lambda functions\n",
    "myLamdabdaFunction = lambda x: x + 1  # noqa: E731\n",
    "print(myLamdabdaFunction(1))\n"
   ]
  }
 ],
 "metadata": {
  "kernelspec": {
   "display_name": "Python 3",
   "language": "python",
   "name": "python3"
  },
  "language_info": {
   "codemirror_mode": {
    "name": "ipython",
    "version": 3
   },
   "file_extension": ".py",
   "mimetype": "text/x-python",
   "name": "python",
   "nbconvert_exporter": "python",
   "pygments_lexer": "ipython3",
   "version": "3.12.3"
  }
 },
 "nbformat": 4,
 "nbformat_minor": 2
}
