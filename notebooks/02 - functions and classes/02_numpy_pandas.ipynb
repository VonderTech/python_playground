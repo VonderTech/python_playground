{
 "cells": [
  {
   "cell_type": "code",
   "execution_count": null,
   "metadata": {},
   "outputs": [],
   "source": [
    "import numpy as np\n",
    "import pandas as pd\n",
    "\n",
    "# create some random temperature data\n",
    "temperatures = np.random.randn(100) * 6 + 20\n",
    "didConsumeIceCream = np.random.choice([True, False], 100)\n",
    "\n",
    "# print(temperatures)\n",
    "# print(\"max temp:\", np.max(temperatures))\n",
    "\n",
    "# create a pandas DataFrame\n",
    "df = pd.DataFrame(\n",
    "    {\"temperature\": temperatures, \"didConsumeIceCream\": didConsumeIceCream}\n",
    ")\n",
    "\n",
    "print(df)\n"
   ]
  },
  {
   "cell_type": "code",
   "execution_count": 26,
   "metadata": {},
   "outputs": [
    {
     "name": "stdout",
     "output_type": "stream",
     "text": [
      "[0, 1, 2, 3, 4, 5, 6, 7, 8, 9, 10]\n",
      "[  0   1   4   9  16  25  36  49  64  81 100]\n",
      "    integers  squares       log\n",
      "0          0        0      -inf\n",
      "1          1        1  0.000000\n",
      "2          2        4  0.693147\n",
      "3          3        9  1.098612\n",
      "4          4       16  1.386294\n",
      "5          5       25  1.609438\n",
      "6          6       36  1.791759\n",
      "7          7       49  1.945910\n",
      "8          8       64  2.079442\n",
      "9          9       81  2.197225\n",
      "10        10      100  2.302585\n"
     ]
    },
    {
     "name": "stderr",
     "output_type": "stream",
     "text": [
      "C:\\Users\\andre\\AppData\\Local\\Temp\\ipykernel_6852\\1464549271.py:9: RuntimeWarning: divide by zero encountered in log\n",
      "  logList = np.log(integer_list)\n"
     ]
    }
   ],
   "source": [
    "# simple pandas data frame\n",
    "\n",
    "integer_list = list(range(11))\n",
    "print(integer_list)\n",
    "\n",
    "squareList = np.square(integer_list)\n",
    "print(squareList)\n",
    "\n",
    "logList = np.log(integer_list)\n",
    "\n",
    "df = pd.DataFrame({\"integers\": integer_list, \"squares\": squareList, \"log\": logList})\n",
    "\n",
    "print(df)"
   ]
  }
 ],
 "metadata": {
  "kernelspec": {
   "display_name": "Python 3",
   "language": "python",
   "name": "python3"
  },
  "language_info": {
   "codemirror_mode": {
    "name": "ipython",
    "version": 3
   },
   "file_extension": ".py",
   "mimetype": "text/x-python",
   "name": "python",
   "nbconvert_exporter": "python",
   "pygments_lexer": "ipython3",
   "version": "3.12.3"
  }
 },
 "nbformat": 4,
 "nbformat_minor": 2
}
