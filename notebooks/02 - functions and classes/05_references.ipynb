{
 "cells": [
  {
   "cell_type": "markdown",
   "metadata": {},
   "source": [
    "## References\n",
    "\n",
    "- Python uses reference types for lists, dictionaries, and other mutable objects.\n",
    "- When assigning one variable to another, it simply points to the same memory address.\n",
    "- This means that modifying one variable will also affect the other variable.\n",
    "- To create a copy of a list with separate values (deep copy), you can use the slicing notation `[:]`.\n",
    "- A deep copy creates a new list with the same values, but stored in a different memory address.\n"
   ]
  },
  {
   "cell_type": "code",
   "execution_count": null,
   "metadata": {},
   "outputs": [],
   "source": [
    "# pointing to the same memory address\n",
    "a = [1, 2, 3]\n",
    "b = a\n",
    "b[0] = 5\n",
    "print(\"Value of a \", a)\n",
    "print(\"Value of b \", b)\n",
    "print(\"Address of a \", id(a))\n",
    "print(\"Address of b \", id(b))\n",
    "\n",
    "# deep copy\n",
    "c = a[:]\n",
    "c[0] = 10\n",
    "print(\"Value of c \", c)\n",
    "print(\"Address of c \", id(c))\n"
   ]
  },
  {
   "cell_type": "code",
   "execution_count": 5,
   "metadata": {},
   "outputs": [
    {
     "name": "stdout",
     "output_type": "stream",
     "text": [
      "Value of a  {'a': 1, 'b': 2, 0: 5}\n",
      "Value of b  {'a': 1, 'b': 2, 0: 5}\n",
      "Address of a  2269019761664\n",
      "Address of b  2269019761664\n",
      "Value of c  {'a': 1, 'b': 2, 0: 10}\n",
      "Address of c  2269020966336\n"
     ]
    }
   ],
   "source": [
    "import copy\n",
    "\n",
    "# for dictionaries slicing is not possible\n",
    "a = {\"a\": 1, \"b\": 2}\n",
    "b = a\n",
    "b[0] = 5\n",
    "print(\"Value of a \", a)\n",
    "print(\"Value of b \", b)\n",
    "print(\"Address of a \", id(a))\n",
    "print(\"Address of b \", id(b))\n",
    "\n",
    "# here we need to use deep copy\n",
    "c = copy.deepcopy(a)\n",
    "c[0] = 10\n",
    "print(\"Value of c \", c)\n",
    "print(\"Address of c \", id(c))\n"
   ]
  }
 ],
 "metadata": {
  "kernelspec": {
   "display_name": "Python 3",
   "language": "python",
   "name": "python3"
  },
  "language_info": {
   "codemirror_mode": {
    "name": "ipython",
    "version": 3
   },
   "file_extension": ".py",
   "mimetype": "text/x-python",
   "name": "python",
   "nbconvert_exporter": "python",
   "pygments_lexer": "ipython3",
   "version": "3.12.3"
  }
 },
 "nbformat": 4,
 "nbformat_minor": 2
}
