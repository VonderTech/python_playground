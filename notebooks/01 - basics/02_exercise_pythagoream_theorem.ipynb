{
 "cells": [
  {
   "cell_type": "markdown",
   "metadata": {},
   "source": [
    "This function calculates the length of the hypotenuse of a right triangle given the lengths of the other two sides.\n",
    "\n",
    "**Parameters:**\n",
    "- None\n",
    "\n",
    "**Returns:**\n",
    "- None\n",
    "\n",
    "**Example Usage:** \n",
    "\n",
    "    calculate_hypotenuse()\n"
   ]
  },
  {
   "cell_type": "code",
   "execution_count": 3,
   "metadata": {},
   "outputs": [
    {
     "name": "stdout",
     "output_type": "stream",
     "text": [
      "This small script calculates the length a of the hypotenuse of a right triangle with the sides b and c.\n",
      "This small script calculates the length a of the hypotenuse of a right triangle with the sides b and c.\n",
      "Invalid input. Please enter numerical values for b and c.\n"
     ]
    }
   ],
   "source": [
    "import math\n",
    "\n",
    "\n",
    "def calculate_hypotenuse():\n",
    "    print(\n",
    "        \"This small script calculates the length a of the hypotenuse of a right triangle with the sides b and c.\"\n",
    "    )\n",
    "\n",
    "    def calculate_hypotenuse():\n",
    "        print(\n",
    "            \"This small script calculates the length a of the hypotenuse of a right triangle with the sides b and c.\"\n",
    "        )\n",
    "\n",
    "        try:\n",
    "            b = float(input(\"Please enter the length of the first side b: \"))\n",
    "            c = float(input(\"Please enter the length of the second side c: \"))\n",
    "\n",
    "            a = math.sqrt(b**2 + c**2)\n",
    "            print(\"The length of the hypotenuse is:\", a)\n",
    "        except ValueError:\n",
    "            print(\"Invalid input. Please enter numerical values for b and c.\")\n",
    "\n",
    "    calculate_hypotenuse()\n",
    "\n",
    "\n",
    "calculate_hypotenuse()"
   ]
  }
 ],
 "metadata": {
  "kernelspec": {
   "display_name": "Python 3",
   "language": "python",
   "name": "python3"
  },
  "language_info": {
   "codemirror_mode": {
    "name": "ipython",
    "version": 3
   },
   "file_extension": ".py",
   "mimetype": "text/x-python",
   "name": "python",
   "nbconvert_exporter": "python",
   "pygments_lexer": "ipython3",
   "version": "3.12.3"
  }
 },
 "nbformat": 4,
 "nbformat_minor": 2
}
