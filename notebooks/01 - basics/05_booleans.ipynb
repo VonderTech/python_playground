{
 "cells": [
  {
   "cell_type": "markdown",
   "metadata": {},
   "source": [
    "## Booleans\n",
    "\n",
    "In Python, boolean types work similarly to other programming languages. Here are some key points to remember:\n",
    "\n",
    "- The operators `==`, `!=`, `<=`, `>=`, etc. are used for comparison.\n",
    "- Instead of using `&&` and `||` for logical conjunction and disjunction, Python uses `and` and `or`.\n",
    "- Empty strings evaluate to `False`, while non-empty strings evaluate to `True`.\n",
    "- Numeric types evaluate to `False` if their value is `0`, and `True` otherwise.\n"
   ]
  },
  {
   "cell_type": "code",
   "execution_count": 2,
   "metadata": {},
   "outputs": [
    {
     "name": "stdout",
     "output_type": "stream",
     "text": [
      "True\n",
      "False\n",
      "False\n",
      "False\n",
      "True\n",
      "True\n",
      "False\n",
      "False\n"
     ]
    }
   ],
   "source": [
    "isEqual = 1 == 1\n",
    "print(isEqual)\n",
    "\n",
    "isNotEqual = 1 != 1\n",
    "print(isNotEqual)\n",
    "\n",
    "isGreaterThan = 1 > 1\n",
    "print(isGreaterThan)\n",
    "\n",
    "isLessThan = 1 < 1\n",
    "print(isLessThan)\n",
    "\n",
    "isGreaterThanOrEqual = 1 >= 1\n",
    "print(isGreaterThanOrEqual)\n",
    "\n",
    "isLessThanOrEqual = 1 <= 1\n",
    "print(isLessThanOrEqual)\n",
    "\n",
    "isNotEmptyString = bool(\"\")\n",
    "print(isNotEmptyString)\n",
    "\n",
    "\n",
    "isNotZero = bool(0)\n",
    "print(isNotZero)"
   ]
  }
 ],
 "metadata": {
  "kernelspec": {
   "display_name": "Python 3",
   "language": "python",
   "name": "python3"
  },
  "language_info": {
   "codemirror_mode": {
    "name": "ipython",
    "version": 3
   },
   "file_extension": ".py",
   "mimetype": "text/x-python",
   "name": "python",
   "nbconvert_exporter": "python",
   "pygments_lexer": "ipython3",
   "version": "3.12.3"
  }
 },
 "nbformat": 4,
 "nbformat_minor": 2
}
