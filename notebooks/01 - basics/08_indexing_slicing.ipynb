{
 "cells": [
  {
   "cell_type": "markdown",
   "metadata": {},
   "source": [
    "## Indexing and Slicing in Python\n",
    "\n",
    "- Works with strings, lists, tuples, and dictionaries\n",
    "- Zero-based indexing\n",
    "- Negative indexes can be used to access the last elements\n",
    "- Multidimensional lists can be accessed by concatenating the square brackets, e.g., [1][2]\n",
    "- Slicing is a way to extract a portion of a sequence, such as a string or a list, by specifying a range of indices. \n",
    "    The syntax for slicing is `start:end`, where `start` is the index of the first element to include and `end` is the index of the first element to exclude.\n",
    "- Syntax for slicing with step is `myList[start:stop:skip]`\n",
    "\n",
    "    "
   ]
  },
  {
   "cell_type": "code",
   "execution_count": 7,
   "metadata": {},
   "outputs": [
    {
     "name": "stdout",
     "output_type": "stream",
     "text": [
      "[1, 2, 3, 4, 5, 6, 7, 8, 9, 10]\n",
      "firstElement  1\n",
      "lastElement  10\n",
      "1\n",
      "The dog is a Mammal\n"
     ]
    }
   ],
   "source": [
    "myList = [1, 2, 3, 4, 5, 6, 7, 8, 9, 10]\n",
    "print(myList)\n",
    "print(\"firstElement \", myList[0])\n",
    "print(\"lastElement \", myList[-1])\n",
    "\n",
    "twoDimensionalList = [[1, 2, 3], [4, 5, 6], [7, 8, 9]]\n",
    "print(twoDimensionalList[0][0])\n",
    "\n",
    "listWithLotsOfStuff = [\n",
    "    4,\n",
    "    \"a string\",\n",
    "    3.14,\n",
    "    [1, 2, 3],\n",
    "    {\"Lizard\": \"Reptile\", \"Dog\": \"Mammal\"},\n",
    "]\n",
    "print(\"The dog is a\", listWithLotsOfStuff[-1][\"Dog\"])\n"
   ]
  },
  {
   "cell_type": "code",
   "execution_count": 22,
   "metadata": {},
   "outputs": [
    {
     "name": "stdout",
     "output_type": "stream",
     "text": [
      "[1, 2, 3, 4, 5]\n",
      "[6, 7, 8, 9, 10]\n",
      "[1, 2, 3, 4, 5]\n",
      "[1, 3, 5, 7, 9]\n",
      "[10, 8, 6, 4, 2]\n",
      "[3, 6, 9]\n",
      "[10, 9, 8, 7, 6, 5, 4, 3, 2, 1]\n"
     ]
    }
   ],
   "source": [
    "# slicing\n",
    "myList = [1, 2, 3, 4, 5, 6, 7, 8, 9, 10]\n",
    "print(myList[0:5])\n",
    "\n",
    "# slicing untl the end\n",
    "print(myList[5:])\n",
    "\n",
    "# slicing from the beginning\n",
    "print(myList[:5])\n",
    "\n",
    "# slicing with step\n",
    "print(myList[0:10:2])\n",
    "\n",
    "# slicing with negative step\n",
    "print(myList[10:0:-2])\n",
    "\n",
    "# every third element and start from the third element\n",
    "print(myList[2::3])\n",
    "\n",
    "# reverse the list\n",
    "print(myList[::-1])\n"
   ]
  }
 ],
 "metadata": {
  "kernelspec": {
   "display_name": "Python 3",
   "language": "python",
   "name": "python3"
  },
  "language_info": {
   "codemirror_mode": {
    "name": "ipython",
    "version": 3
   },
   "file_extension": ".py",
   "mimetype": "text/x-python",
   "name": "python",
   "nbconvert_exporter": "python",
   "pygments_lexer": "ipython3",
   "version": "3.12.3"
  }
 },
 "nbformat": 4,
 "nbformat_minor": 2
}
