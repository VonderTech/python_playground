{
 "cells": [
  {
   "cell_type": "markdown",
   "metadata": {},
   "source": [
    "# Types\n",
    "\n",
    "## Dynamic Typing in Python\n",
    "\n",
    "Python is a dynamically typed language, which means that the type of a variable is determined at runtime during assignment. Here are some examples of types that can be assigned to variables in Python:\n",
    "\n",
    "- Integer: `x = 5`\n",
    "- Float: `x = 5.0`\n",
    "- String: `x = \"Hello\"`\n",
    "- Boolean: `x = True`\n",
    "- List: `x = [1, 2, 3]`\n",
    "- Tuple: `x = (1, 2, 3)`\n",
    "- Dictionary: `x = {\"name\": \"Alice\", \"age\": 25}`\n",
    "- Set: `x = {1, 2, 3}`\n",
    "- None: `x = None`\n",
    "\n",
    "It's important to note that Python allows variables to be reassigned to different types during runtime, which makes it a flexible and dynamic language.\n",
    "\n"
   ]
  },
  {
   "cell_type": "code",
   "execution_count": 6,
   "metadata": {},
   "outputs": [
    {
     "name": "stdout",
     "output_type": "stream",
     "text": [
      "<class 'int'>\n",
      "<class 'float'>\n",
      "<class 'str'>\n",
      "<class 'complex'>\n"
     ]
    }
   ],
   "source": [
    "a = 5  # integer\n",
    "b = 5.0  # float\n",
    "c = \"5\"  # string\n",
    "d = 5 + 3j  # complex\n",
    "\n",
    "print(type(a))\n",
    "print(type(b))\n",
    "print(type(c))\n",
    "print(type(d))"
   ]
  },
  {
   "cell_type": "markdown",
   "metadata": {},
   "source": [
    "## Variable Types and Values\n",
    "\n",
    "\n",
    "To list all the variables and their details, you can use the `%whos` statement.\n"
   ]
  },
  {
   "cell_type": "code",
   "execution_count": 7,
   "metadata": {},
   "outputs": [
    {
     "name": "stdout",
     "output_type": "stream",
     "text": [
      "Variable   Type       Data/Info\n",
      "-------------------------------\n",
      "a          int        5\n",
      "b          float      5.0\n",
      "c          str        5\n",
      "d          complex    (5+3j)\n",
      "x          int        5\n"
     ]
    }
   ],
   "source": [
    "%whos"
   ]
  },
  {
   "cell_type": "markdown",
   "metadata": {},
   "source": [
    "## String interpolation\n",
    "\n",
    "String interpolation in Python allows you to embed expressions or variables within a string. It helps in creating dynamic strings by substituting placeholders with their corresponding values. There are multiple ways to perform string interpolation in Python:\n",
    "\n",
    "- Using f-strings: You can prefix a string with `f` or `F` and use curly braces `{}` to enclose the expressions or variables that you want to interpolate. For example: \n",
    "```name = \"Alice\"`, `age = 25`, `print(f\"My name is {name} and I am {age} years old.\")```\n",
    "\n",
    "- Using the `format()` method: You can call the `format()` method on a string and pass the values to be interpolated as arguments. Placeholders within the string can be specified using curly braces `{}`. For example: `name = \"Alice\"`, `age = 25`, `print(\"My name is {} and I am {} years old.\".format(name, age))`\n",
    "\n",
    "- Using the `%` operator: You can use the `%` operator to perform string formatting. Placeholders within the string are specified using `%` followed by a format specifier. For example: ```name = \"Alice\"`, `age = 25`, `print(\"My name is %s and I am %d years old.\" % (name, age))```\n"
   ]
  },
  {
   "cell_type": "code",
   "execution_count": null,
   "metadata": {},
   "outputs": [],
   "source": [
    "name = \"Alice\"\n",
    "age = 25\n",
    "\n",
    "print(f\"My name is {name} and I am {age} years old.\")"
   ]
  }
 ],
 "metadata": {
  "kernelspec": {
   "display_name": "Python 3",
   "language": "python",
   "name": "python3"
  },
  "language_info": {
   "codemirror_mode": {
    "name": "ipython",
    "version": 3
   },
   "file_extension": ".py",
   "mimetype": "text/x-python",
   "name": "python",
   "nbconvert_exporter": "python",
   "pygments_lexer": "ipython3",
   "version": "3.12.3"
  }
 },
 "nbformat": 4,
 "nbformat_minor": 2
}
