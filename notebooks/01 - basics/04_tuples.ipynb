{
 "cells": [
  {
   "cell_type": "markdown",
   "metadata": {},
   "source": [
    "## Tuples\n",
    "\n",
    " Main benefits of tuples:\n",
    " \n",
    "   1. Immutable: Once a tuple is created, its elements cannot be modified. This makes tuples suitable for representing fixed data or constants.\n",
    "   2. Faster: Tuples are generally faster than lists because they have a smaller memory footprint and simpler internal structure.\n",
    "   3. Valid keys in dictionaries: Tuples can be used as keys in dictionaries, whereas lists cannot.\n",
    "   4. Sequence unpacking: Tuples can be easily unpacked into multiple variables, making it convenient for assignments and function returns.\n",
    "   5. Slicing and indexing: Tuples support slicing and indexing operations, allowing easy access to specific elements or sub-tuples.\n"
   ]
  },
  {
   "cell_type": "code",
   "execution_count": 1,
   "metadata": {},
   "outputs": [
    {
     "name": "stdout",
     "output_type": "stream",
     "text": [
      "<class 'tuple'>\n"
     ]
    }
   ],
   "source": [
    "myFirstTuple = (1, 2, 3, 4, 5)\n",
    "print(type(myFirstTuple))"
   ]
  }
 ],
 "metadata": {
  "kernelspec": {
   "display_name": "Python 3",
   "language": "python",
   "name": "python3"
  },
  "language_info": {
   "codemirror_mode": {
    "name": "ipython",
    "version": 3
   },
   "file_extension": ".py",
   "mimetype": "text/x-python",
   "name": "python",
   "nbconvert_exporter": "python",
   "pygments_lexer": "ipython3",
   "version": "3.12.3"
  }
 },
 "nbformat": 4,
 "nbformat_minor": 2
}
