{
 "cells": [
  {
   "cell_type": "markdown",
   "metadata": {},
   "source": [
    "# Lists in Python\n",
    "\n",
    "- Lists in Python are represented by the `list` class.\n",
    "- A list can contain elements of the same type or mixed types.\n",
    "- Lists can even encapsulate other lists.\n",
    "\n",
    "Example:\n"
   ]
  },
  {
   "cell_type": "code",
   "execution_count": null,
   "metadata": {},
   "outputs": [],
   "source": [
    "myFirstList = [3, 45, 56, 732]\n",
    "mySecondList = [\"hello\", \"hi\", \"howdy\", \"heyas\"]\n",
    "myMixedList = [3, 45, \"hello\", 56, \"hi\", 732, \"howdy\", \"heyas\"]\n",
    "\n",
    "print(type(myFirstList))\n",
    "print(type(mySecondList))\n",
    "print(type(myMixedList))\n",
    "\n",
    "myEncapsulatedList = [myFirstList, mySecondList]\n",
    "print(myEncapsulatedList)"
   ]
  },
  {
   "cell_type": "markdown",
   "metadata": {},
   "source": [
    "### Concatenating lists"
   ]
  },
  {
   "cell_type": "code",
   "execution_count": 7,
   "metadata": {},
   "outputs": [
    {
     "name": "stdout",
     "output_type": "stream",
     "text": [
      "[3, 45, 56, 732, 'hello', 'hi', 'howdy', 'heyas']\n"
     ]
    }
   ],
   "source": [
    "from gettext import find\n",
    "\n",
    "\n",
    "concatenatedList = myFirstList + mySecondList\n",
    "print(concatenatedList)\n",
    "# Find the index of an element in the list\n",
    "index = concatenatedList.index(56)\n",
    "print(index)\n",
    "find(concatenatedList, 56)"
   ]
  },
  {
   "cell_type": "markdown",
   "metadata": {},
   "source": [
    "### Detecting if an element exists along with it's index"
   ]
  },
  {
   "cell_type": "code",
   "execution_count": 8,
   "metadata": {},
   "outputs": [
    {
     "name": "stdout",
     "output_type": "stream",
     "text": [
      "Element exists in the list\n",
      "Index of element is:  2\n"
     ]
    }
   ],
   "source": [
    "element = 56\n",
    "if element in myFirstList:\n",
    "    print(\"Element exists in the list\")\n",
    "    indexOfElement = myFirstList.index(element)\n",
    "    print(\"Index of element is: \", indexOfElement)\n",
    "else:\n",
    "    print(\"Element does not exist in the list\")\n"
   ]
  },
  {
   "cell_type": "code",
   "execution_count": 9,
   "metadata": {},
   "outputs": [
    {
     "name": "stdout",
     "output_type": "stream",
     "text": [
      "Number of occurences of 56 in the list is:  1\n"
     ]
    }
   ],
   "source": [
    "numberOfOccurences = myFirstList.count(56)\n",
    "print(\"Number of occurences of 56 in the list is: \", numberOfOccurences)"
   ]
  }
 ],
 "metadata": {
  "kernelspec": {
   "display_name": "Python 3",
   "language": "python",
   "name": "python3"
  },
  "language_info": {
   "codemirror_mode": {
    "name": "ipython",
    "version": 3
   },
   "file_extension": ".py",
   "mimetype": "text/x-python",
   "name": "python",
   "nbconvert_exporter": "python",
   "pygments_lexer": "ipython3",
   "version": "3.12.3"
  }
 },
 "nbformat": 4,
 "nbformat_minor": 2
}
