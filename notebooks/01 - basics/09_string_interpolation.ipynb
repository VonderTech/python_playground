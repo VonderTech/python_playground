{
 "cells": [
  {
   "cell_type": "markdown",
   "metadata": {},
   "source": [
    "## String interpolation\n",
    "\n",
    "There are different ways to do string interpolation in python\n",
    "1. using the % operator\n",
    "2. using the format() method\n",
    "3. using f-strings"
   ]
  },
  {
   "cell_type": "code",
   "execution_count": 5,
   "metadata": {},
   "outputs": [
    {
     "name": "stdout",
     "output_type": "stream",
     "text": [
      "Hello, world!\n",
      "Hello, world! How are you?\n",
      "The number is 5\n",
      "The number is 13.1435542355\n",
      "Hello, world!\n",
      "Hello, world! How are you? I am fine.\n"
     ]
    }
   ],
   "source": [
    "# string interpolation using % operator -%s for string, %i for integer, %g for float %d for decimal\n",
    "print(\"Hello, %s!\" % \"world\")\n",
    "print(\"Hello, %s! %s\" % (\"world\", \"How are you?\"))\n",
    "# with numbers\n",
    "print(\"The number is %d\" % 5)\n",
    "\n",
    "num = 13.1435542354545\n",
    "print(\"The number is %.10f\" % num)\n",
    "\n",
    "# string interpolation using format method - {} is a place holder\n",
    "print(\"Hello, {}!\".format(\"world\"))\n",
    "print(\"Hello, {}! {} {}\".format(\"world\", \"How are you?\", \"I am fine.\"))\n",
    "\n",
    "# string interpolation using f-string\n",
    "name = \"world\"\n",
    "print(f\"Hello, {name}!\")"
   ]
  },
  {
   "cell_type": "code",
   "execution_count": 16,
   "metadata": {},
   "outputs": [
    {
     "name": "stdout",
     "output_type": "stream",
     "text": [
      "a is the 1st letter of the alphabet.\n",
      "b is the 2nd letter of the alphabet.\n",
      "c is the 3rd letter of the alphabet.\n",
      "d is the 4th letter of the alphabet.\n",
      "e is the 5th letter of the alphabet.\n",
      "f is the 6th letter of the alphabet.\n",
      "g is the 7th letter of the alphabet.\n",
      "h is the 8th letter of the alphabet.\n",
      "i is the 9th letter of the alphabet.\n",
      "j is the 10th letter of the alphabet.\n",
      "k is the 11th letter of the alphabet.\n",
      "l is the 12th letter of the alphabet.\n",
      "m is the 13th letter of the alphabet.\n",
      "n is the 14th letter of the alphabet.\n",
      "o is the 15th letter of the alphabet.\n",
      "p is the 16th letter of the alphabet.\n",
      "q is the 17th letter of the alphabet.\n",
      "r is the 18th letter of the alphabet.\n",
      "s is the 19th letter of the alphabet.\n",
      "t is the 20th letter of the alphabet.\n",
      "u is the 21st letter of the alphabet.\n",
      "v is the 22nd letter of the alphabet.\n",
      "w is the 23rd letter of the alphabet.\n",
      "x is the 24th letter of the alphabet.\n",
      "y is the 25th letter of the alphabet.\n",
      "z is the 26th letter of the alphabet.\n"
     ]
    }
   ],
   "source": [
    "# array with all letters of the alphabet\n",
    "import string\n",
    "\n",
    "letters = list(string.ascii_lowercase)\n",
    "for i in range(0, len(letters)):\n",
    "    appendix = \"th\"\n",
    "    if i == 0 or i == 20:\n",
    "        appendix = \"st\"\n",
    "    elif i == 1 or i == 21:\n",
    "        appendix = \"nd\"\n",
    "    elif i == 2 or i == 22:\n",
    "        appendix = \"rd\"\n",
    "    print(f\"{letters[i]} is the {i+1}{appendix} letter of the alphabet.\")"
   ]
  }
 ],
 "metadata": {
  "kernelspec": {
   "display_name": "Python 3",
   "language": "python",
   "name": "python3"
  },
  "language_info": {
   "codemirror_mode": {
    "name": "ipython",
    "version": 3
   },
   "file_extension": ".py",
   "mimetype": "text/x-python",
   "name": "python",
   "nbconvert_exporter": "python",
   "pygments_lexer": "ipython3",
   "version": "3.12.3"
  }
 },
 "nbformat": 4,
 "nbformat_minor": 2
}
