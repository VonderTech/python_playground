{
 "cells": [
  {
   "cell_type": "markdown",
   "metadata": {},
   "source": [
    "This function calculates the length of the hypotenuse of a right triangle given the lengths of the other two sides.\n",
    "\n",
    "**Parameters:**\n",
    "- None\n",
    "\n",
    "**Returns:**\n",
    "- None\n",
    "\n",
    "**Example Usage:**\n"
   ]
  },
  {
   "cell_type": "code",
   "execution_count": 4,
   "metadata": {},
   "outputs": [
    {
     "name": "stdout",
     "output_type": "stream",
     "text": [
      "This script checks if a triangle's hypotenuse is calculated correctly.\n",
      "Oops! You made a mistake. The correct hypotenuse is: 2.0\n"
     ]
    }
   ],
   "source": [
    "def calculate_hypotenuse():\n",
    "    print(\"This script checks if a triangle's hypotenuse is calculated correctly.\")\n",
    "\n",
    "    try:\n",
    "        a = float(input(\"Please enter the length of the first side (a): \"))\n",
    "        b = float(input(\"Please enter the length of the second side (b): \"))\n",
    "        c = float(input(\"Please enter the length of the third side (c): \"))\n",
    "\n",
    "        hypotenuse = b**2 + c**2\n",
    "        if a == hypotenuse:\n",
    "            print(\n",
    "                \"Congratulations! You calculated the hypotenuse correctly:\", hypotenuse\n",
    "            )\n",
    "        else:\n",
    "            print(\"Oops! You made a mistake. The correct hypotenuse is:\", hypotenuse)\n",
    "    except ValueError:\n",
    "        print(\"Invalid input. Please enter numerical values for sides b and c.\")\n",
    "\n",
    "\n",
    "calculate_hypotenuse()"
   ]
  }
 ],
 "metadata": {
  "kernelspec": {
   "display_name": "Python 3",
   "language": "python",
   "name": "python3"
  },
  "language_info": {
   "codemirror_mode": {
    "name": "ipython",
    "version": 3
   },
   "file_extension": ".py",
   "mimetype": "text/x-python",
   "name": "python",
   "nbconvert_exporter": "python",
   "pygments_lexer": "ipython3",
   "version": "3.12.3"
  }
 },
 "nbformat": 4,
 "nbformat_minor": 2
}
