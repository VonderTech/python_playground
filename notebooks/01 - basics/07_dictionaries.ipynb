{
 "cells": [
  {
   "cell_type": "markdown",
   "metadata": {},
   "source": [
    "## Dictionaries\n",
    "\n",
    "- Dictionaries work exactly like in C# - they are key-value pairs and they are not ordered.\n",
    "- The syntax is key, colon, and value.\n"
   ]
  },
  {
   "cell_type": "code",
   "execution_count": null,
   "metadata": {},
   "outputs": [],
   "source": [
    "myDictionary = {1: \"apple\", 2: \"banana\", 3: \"orange\"}\n",
    "print(myDictionary)\n",
    "print(myDictionary[1])\n",
    "\n",
    "print(myDictionary.keys())\n",
    "print(myDictionary.values())\n",
    "\n",
    "keyToCheck = 1\n",
    "if keyToCheck in myDictionary:\n",
    "    print(\"The dictionary has the key:\", keyToCheck)\n",
    "else:\n",
    "    print(\"The dictionary does not have the key:\", keyToCheck)\n"
   ]
  },
  {
   "cell_type": "code",
   "execution_count": 4,
   "metadata": {},
   "outputs": [
    {
     "name": "stdout",
     "output_type": "stream",
     "text": [
      "{'firstNumber': '4', 'secondNumber': '4', 'product': 16}\n"
     ]
    }
   ],
   "source": [
    "firstNumber = input(\"Enter the first number: \")\n",
    "secondNumber = input(\"Enter the second number: \")\n",
    "\n",
    "productDict = {\n",
    "    \"firstNumber\": firstNumber,\n",
    "    \"secondNumber\": secondNumber,\n",
    "    \"product\": int(firstNumber) * int(secondNumber),\n",
    "}\n",
    "print(productDict)\n"
   ]
  }
 ],
 "metadata": {
  "kernelspec": {
   "display_name": "Python 3",
   "language": "python",
   "name": "python3"
  },
  "language_info": {
   "codemirror_mode": {
    "name": "ipython",
    "version": 3
   },
   "file_extension": ".py",
   "mimetype": "text/x-python",
   "name": "python",
   "nbconvert_exporter": "python",
   "pygments_lexer": "ipython3",
   "version": "3.12.3"
  }
 },
 "nbformat": 4,
 "nbformat_minor": 2
}
